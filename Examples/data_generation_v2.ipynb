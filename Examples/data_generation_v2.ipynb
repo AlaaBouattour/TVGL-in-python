{
 "cells": [
  {
   "cell_type": "markdown",
   "metadata": {},
   "source": [
    "## 1) simple example of generating data and then estimating covariance matrix with graphical lasso"
   ]
  },
  {
   "cell_type": "code",
   "execution_count": 2,
   "metadata": {},
   "outputs": [],
   "source": [
    "import numpy as np\n",
    "Cov = np.array([[5/8, 1/8, -1/4],\n",
    "                [1/8, 5/8, -1/4],\n",
    "                [-1/4, -1/4,  1/2]])\n",
    "Prec = np.array([[2, 0, 1],\n",
    "                 [0, 2, 1],\n",
    "                 [1, 1, 3]])\n"
   ]
  },
  {
   "cell_type": "code",
   "execution_count": 9,
   "metadata": {},
   "outputs": [],
   "source": [
    "import numpy as np\n",
    "np.random.seed(0)\n",
    "N = 50000\n",
    "mean = np.zeros(3)\n",
    "data = np.random.multivariate_normal(mean, Cov, size=N)"
   ]
  },
  {
   "cell_type": "code",
   "execution_count": 11,
   "metadata": {},
   "outputs": [
    {
     "name": "stdout",
     "output_type": "stream",
     "text": [
      "[[ 1.96124237e+00 -1.75274990e-03  9.32646981e-01]\n",
      " [-1.75274990e-03  1.96487758e+00  9.57173424e-01]\n",
      " [ 9.32646981e-01  9.57173424e-01  2.94040049e+00]]\n"
     ]
    }
   ],
   "source": [
    "from sklearn.covariance import GraphicalLasso\n",
    "model = GraphicalLasso(alpha=0.01, max_iter=1000)\n",
    "model.fit(data)\n",
    "estimated_precision = model.precision_\n",
    "print(estimated_precision)"
   ]
  },
  {
   "cell_type": "markdown",
   "metadata": {},
   "source": [
    "# Synthetic Data Generation: Market Dynamics and Conditional Independence\n",
    "\n",
    "## Objective\n",
    "To simulate synthetic data representing two groups in a market with specific dynamics, analyze changes due to market events, and estimate the resulting covariance matrices to identify conditional independencies.\n",
    "\n",
    "---\n",
    "\n",
    "## Setup and Dynamics\n",
    "\n",
    "### Initial Configuration\n",
    "1. **Groups and Variables**:\n",
    "   - **Group 1**:\n",
    "     - 3 stocks.\n",
    "     - 1 index associated with these stocks.\n",
    "   - **Group 2**:\n",
    "     - 2 stocks.\n",
    "     - 1 index associated with these stocks.\n",
    "\n",
    "2. **Dynamic Relationships**:\n",
    "   - **Indexes**:\n",
    "     - Correlated and conditionally correlated:\n",
    "       - Knowing one index provides additional information about the other, regardless of other variables.\n",
    "   - **Stocks within a group**:\n",
    "     - Correlated and conditionally correlated:\n",
    "       - Knowing one stock provides additional information about the others in the same group, regardless of other variables.\n",
    "   - **Stocks between groups**:\n",
    "     - Conditionally independent:\n",
    "       - Stocks in different groups are independent given the indexes and other stocks in their respective groups.\n",
    "\n",
    "3. **Matrix Constraints**:\n",
    "   - **Precision Matrix** (inverse covariance matrix):\n",
    "     - Reflects the above dynamics, including zeros for conditional independence.\n",
    "     - Must be positive definite for invertibility.\n",
    "   - **Covariance Matrix**:\n",
    "     - Derived analytically from the precision matrix.\n",
    "\n",
    "4. **Data Generation**:\n",
    "   - Generate synthetic data for a time horizon \\( T \\) based on the defined dynamics.\n",
    "\n",
    "---\n",
    "\n",
    "### Market Change: Partial Acquisition Scenario\n",
    "\n",
    "1. **Dynamic Shift**:\n",
    "   - Partial acquisition between Group 1 and Group 2 changes the dynamics:\n",
    "     - Stocks in the two groups are no longer conditionally independent.\n",
    "     - Knowing a stock in one group now provides additional information about stocks in the other group.\n",
    "\n",
    "2. **Matrix Adjustment**:\n",
    "   - Update the precision matrix:\n",
    "     - Add non-zero coefficients for newly dependent variables.\n",
    "     - Ensure no changes to other zero coefficients to preserve the original conditional independence relationships.\n",
    "     - Maintain positive definiteness to ensure invertibility.\n",
    "\n",
    "3. **New Data Generation**:\n",
    "   - Generate synthetic data for another time horizon \\( T' \\) based on the updated dynamics.\n",
    "\n",
    "---\n",
    "\n",
    "## Implementation Plan\n",
    "\n",
    "### Step 1: Generate Initial Precision Matrix\n",
    "- Construct the precision matrix to reflect the initial relationships:\n",
    "  - Correlations between stocks and indexes within the same group.\n",
    "  - Conditional independence between groups.\n",
    "- Ensure positive definiteness of the precision matrix.\n",
    "\n",
    "### Step 2: Compute Covariance Matrix\n",
    "- Compute the covariance matrix analytically as the inverse of the precision matrix.\n",
    "\n",
    "### Step 3: Generate Synthetic Data\n",
    "- Use the covariance matrix to generate multivariate normal data for time horizon \\( T \\).\n",
    "\n",
    "### Step 4: Modify Precision Matrix\n",
    "- Adjust the precision matrix to reflect the new market dynamics:\n",
    "  - Add non-zero coefficients for newly dependent variables.\n",
    "  - Preserve zero coefficients that correspond to conditional independence.\n",
    "- Ensure the matrix remains positive definite and invertible.\n",
    "\n",
    "### Step 5: Generate Data for Updated Dynamics\n",
    "- Compute the updated covariance matrix.\n",
    "- Generate synthetic data for horizon \\( T' \\).\n",
    "\n",
    "### Step 6: Concatenate Data and Estimate Relationships\n",
    "- Concatenate data from the two horizons.\n",
    "- Estimate the covariance matrices for both regimes using the synthetic data.\n",
    "- Compute the precision matrices from the estimated covariance matrices.\n",
    "- Identify pairs of variables that are conditionally independent in each regime:\n",
    "  - Compare the results to the theoretical precision matrices.\n",
    "  - Highlight discrepancies where estimation produces incorrect results.\n",
    "\n",
    "\n",
    "---\n",
    "\n",
    "## Expected Insights\n",
    "1. **Initial Regime**:\n",
    "   - Clear identification of conditional independence based on the precision matrix.\n",
    "2. **Post-Acquisition Regime**:\n",
    "   - Correct reflection of new dependencies and preserved independencies.\n",
    "3. **Estimation**:\n",
    "   - Precision matrix estimations may deviate from theoretical values.\n",
    "   - Highlight incorrect independence relationships due to estimation limitations.\n"
   ]
  },
  {
   "cell_type": "code",
   "execution_count": 21,
   "metadata": {},
   "outputs": [],
   "source": [
    "# In[2] (Code): Define and check the first precision matrix\n",
    "\n",
    "import numpy as np\n",
    "\n",
    "# K1 (7x7) for the first regime\n",
    "K1 = np.array([\n",
    "    [2.0,  0.2,  0.2,  0.3,   0.0,  0.0,  0.0],  # S1_1\n",
    "    [0.2,  2.0,  0.2,  0.3,   0.0,  0.0,  0.0],  # S1_2\n",
    "    [0.2,  0.2,  2.0,  0.3,   0.0,  0.0,  0.0],  # S1_3\n",
    "    [0.3,  0.3,  0.3,  2.0,   0.0,  0.0,  0.2],  # I_1\n",
    "    [0.0,  0.0,  0.0,  0.0,   2.0,  0.2,  0.3],  # S2_1\n",
    "    [0.0,  0.0,  0.0,  0.0,   0.2,  2.0,  0.3],  # S2_2\n",
    "    [0.0,  0.0,  0.0,  0.2,   0.3,  0.3,  2.0]   # I_2\n",
    "])\n",
    "\n",
    "# Check positive-definiteness via Cholesky\n",
    "_ = np.linalg.cholesky(K1)\n",
    "\n",
    "# Invert K1 => Sigma1 (covariance), also must be PD\n",
    "Sigma1 = np.linalg.inv(K1)\n",
    "_ = np.linalg.cholesky(Sigma1)\n"
   ]
  },
  {
   "cell_type": "code",
   "execution_count": 22,
   "metadata": {},
   "outputs": [],
   "source": [
    "# In[4] (Code): Generate data for the first regime\n",
    "\n",
    "np.random.seed(42)\n",
    "T = 5000\n",
    "mean = np.zeros(7)\n",
    "data1 = np.random.multivariate_normal(mean, Sigma1, size=T)\n"
   ]
  },
  {
   "cell_type": "code",
   "execution_count": 23,
   "metadata": {},
   "outputs": [],
   "source": [
    "# In[6] (Code): Define and check the second precision matrix\n",
    "\n",
    "K2 = K1.copy()\n",
    "K2[0,4] = 0.3  # S1_1 - S2_1 partial correlation\n",
    "K2[4,0] = 0.3  # Symmetrize\n",
    "\n",
    "# Check if still PD\n",
    "_ = np.linalg.cholesky(K2)\n",
    "\n",
    "Sigma2 = np.linalg.inv(K2)\n",
    "_ = np.linalg.cholesky(Sigma2)\n",
    "\n",
    "# Generate data for the second regime\n",
    "T_prime = 5000\n",
    "data2 = np.random.multivariate_normal(mean, Sigma2, size=T_prime)\n"
   ]
  },
  {
   "cell_type": "code",
   "execution_count": 24,
   "metadata": {},
   "outputs": [
    {
     "name": "stdout",
     "output_type": "stream",
     "text": [
      "Estimated conditional independences in Regime 1 data: [(0, 4), (0, 5), (0, 6), (1, 4), (1, 5), (1, 6), (2, 4), (2, 5), (2, 6)]\n",
      "Estimated conditional independences in Regime 2 data: [(0, 5), (1, 4), (1, 5), (1, 6), (2, 4), (2, 5), (2, 6), (3, 4), (3, 5)]\n",
      "Estimated conditional independences in the Concatenated data: [(0, 5), (1, 4), (1, 5), (1, 6), (2, 4), (2, 5), (2, 6), (3, 4), (3, 5)]\n"
     ]
    }
   ],
   "source": [
    "# In[8] (Code): Estimate precision matrices and check conditional independences\n",
    "\n",
    "from sklearn.covariance import GraphicalLasso\n",
    "\n",
    "model1 = GraphicalLasso(alpha=0.01).fit(data1)\n",
    "prec_est_1 = model1.precision_\n",
    "\n",
    "model2 = GraphicalLasso(alpha=0.01).fit(data2)\n",
    "prec_est_2 = model2.precision_\n",
    "\n",
    "data_concat = np.vstack([data1, data2])\n",
    "model_concat = GraphicalLasso(alpha=0.01).fit(data_concat)\n",
    "prec_est_concat = model_concat.precision_\n",
    "\n",
    "# Identify pairs that appear (near) zero in precision => conditional independences\n",
    "def find_conditional_independences(precision_matrix, threshold=1e-3):\n",
    "    d = precision_matrix.shape[0]\n",
    "    indep_pairs = []\n",
    "    for i in range(d):\n",
    "        for j in range(i+1, d):\n",
    "            if abs(precision_matrix[i,j]) < threshold:\n",
    "                indep_pairs.append((i, j))\n",
    "    return indep_pairs\n",
    "\n",
    "ci_1 = find_conditional_independences(prec_est_1)\n",
    "ci_2 = find_conditional_independences(prec_est_2)\n",
    "ci_concat = find_conditional_independences(prec_est_concat)\n",
    "\n",
    "print(\"Estimated conditional independences in Regime 1 data:\", ci_1)\n",
    "print(\"Estimated conditional independences in Regime 2 data:\", ci_2)\n",
    "print(\"Estimated conditional independences in the Concatenated data:\", ci_concat)\n"
   ]
  }
 ],
 "metadata": {
  "kernelspec": {
   "display_name": "Python 3",
   "language": "python",
   "name": "python3"
  },
  "language_info": {
   "codemirror_mode": {
    "name": "ipython",
    "version": 3
   },
   "file_extension": ".py",
   "mimetype": "text/x-python",
   "name": "python",
   "nbconvert_exporter": "python",
   "pygments_lexer": "ipython3",
   "version": "3.11.9"
  }
 },
 "nbformat": 4,
 "nbformat_minor": 2
}
