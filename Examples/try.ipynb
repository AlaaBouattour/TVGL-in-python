{
 "cells": [
  {
   "cell_type": "code",
   "execution_count": 1,
   "metadata": {},
   "outputs": [
    {
     "name": "stdout",
     "output_type": "stream",
     "text": [
      "Final Thetas:\n",
      "\n",
      "Theta_1:\n",
      "[[ 0.300403    0.00634614 -0.00685571]\n",
      " [ 0.00634614  0.28667742  0.01869699]\n",
      " [-0.00685571  0.01869699  0.28388701]]\n",
      "\n",
      "Theta_2:\n",
      "[[ -0.22411893  -4.64870646  -2.45480011]\n",
      " [ -4.64870646 -42.20445419 -22.00082984]\n",
      " [ -2.45480011 -22.00082984 -11.11115998]]\n",
      "\n",
      "Theta_3:\n",
      "[[-20.51419899 -20.3625417  -22.04752399]\n",
      " [-20.3625417  -19.91205074 -21.91220962]\n",
      " [-22.04752399 -21.91220962 -23.39096895]]\n",
      "\n",
      "Theta_4:\n",
      "[[  0.08176576  -1.53503002  -3.29058524]\n",
      " [ -1.53503002  -9.63560283 -20.86904685]\n",
      " [ -3.29058524 -20.86904685 -43.8262947 ]]\n",
      "\n",
      "Theta_5:\n",
      "[[ 0.2585821  -0.01441812 -0.03986007]\n",
      " [-0.01441812  0.2116511  -0.05405604]\n",
      " [-0.03986007 -0.05405604  0.29017959]]\n"
     ]
    }
   ],
   "source": [
    "import numpy as np\n",
    "\n",
    "\n",
    "def offdiag_l1_norm(M):\n",
    "    \"\"\"Compute the L1 norm of off-diagonal entries.\"\"\"\n",
    "    return np.sum(np.abs(M - np.diag(np.diag(M))))\n",
    "\n",
    "def soft_threshold_offdiag(M, lam):\n",
    "    \"\"\"\n",
    "    Soft-threshold only the off-diagonal entries of M by lam.\n",
    "    Diagonal entries are unchanged.\n",
    "    \"\"\"\n",
    "    diag_part = np.diag(np.diag(M))\n",
    "    offdiag_part = M - diag_part\n",
    "    offdiag_thresh = np.sign(offdiag_part) * np.maximum(np.abs(offdiag_part) - lam, 0.0)\n",
    "    return diag_part + offdiag_thresh\n",
    "\n",
    "def negative_loglike_grad(Theta, S, n):\n",
    "    \"\"\"\n",
    "    Gradient of the negative log-likelihood term:\n",
    "      n * [ - log det(Theta) + trace(S * Theta) ]\n",
    "    w.r.t. Theta is:\n",
    "      n * [ - inv(Theta) + S ]\n",
    "    \"\"\"\n",
    "    inv_Theta = np.linalg.inv(Theta)\n",
    "    return n * (-inv_Theta + S)\n",
    "\n",
    "def psi_l1(X):\n",
    "    \"\"\"Elementwise L1 norm.\"\"\"\n",
    "    return np.sum(np.abs(X))\n",
    "\n",
    "def psi_group_l2(X):\n",
    "    \"\"\"Group-lasso norm: sum of column L2 norms.\"\"\"\n",
    "    val = 0.0\n",
    "    for j in range(X.shape[1]):\n",
    "        col = X[:, j]\n",
    "        val += np.linalg.norm(col)\n",
    "    return val\n",
    "\n",
    "def psi_laplacian(X):\n",
    "    \"\"\"\n",
    "    'Smooth' penalty = 0.5 * ||X||^2_F.\n",
    "    Factor 0.5 is convenient for its gradient.\n",
    "    \"\"\"\n",
    "    return 0.5 * np.sum(X * X)\n",
    "\n",
    "def psi_grad(X, psi_type):\n",
    "    \"\"\"\n",
    "    Returns the gradient (or subgradient) of psi(X) for\n",
    "    the specified psi_type in {\"l1\", \"group_l2\", \"laplacian\"}.\n",
    "    \"\"\"\n",
    "    if psi_type == \"l1\":\n",
    "        # subgradient for elementwise L1 = sign(X)\n",
    "        return np.sign(X)\n",
    "    elif psi_type == \"group_l2\":\n",
    "        # each column is a 'group'\n",
    "        G = np.zeros_like(X)\n",
    "        for j in range(X.shape[1]):\n",
    "            col = X[:, j]\n",
    "            norm_col = np.linalg.norm(col)\n",
    "            if norm_col > 1e-12:\n",
    "                G[:, j] = col / norm_col\n",
    "        return G\n",
    "    elif psi_type == \"laplacian\":\n",
    "        # derivative of 0.5 * ||X||^2_F is X\n",
    "        return X\n",
    "    else:\n",
    "        raise NotImplementedError(f\"Unknown psi_type={psi_type}.\")\n",
    "\n",
    "\n",
    "# -------------------------------------------------------------------\n",
    "# Main solver function\n",
    "# -------------------------------------------------------------------\n",
    "def solve_tvgl(\n",
    "    S_list,\n",
    "    n_list,\n",
    "    lam=0.1,\n",
    "    beta=0.1,\n",
    "    psi_type=\"l1\",\n",
    "    step_size=1e-3,\n",
    "    max_iter=50,\n",
    "    tol=1e-4\n",
    "):\n",
    "    \"\"\"\n",
    "    Solves the Time-Varying Graphical Lasso problem via proximal gradient:\n",
    "      min_{Theta_1,...,Theta_T}\n",
    "        sum_{i=1..T} [ -n_i ( log det(Theta_i) - trace(S_i * Theta_i) )\n",
    "                       + lam * ||Theta_i||_{od,1} ]\n",
    "        + beta * sum_{i=2..T} psi( Theta_i - Theta_{i-1} )\n",
    "    \n",
    "    Parameters\n",
    "    ----------\n",
    "    S_list : list of np.ndarray\n",
    "        Empirical covariances, one for each time i=1..T.\n",
    "    n_list : list of int\n",
    "        Sample sizes for each time i=1..T.\n",
    "    lam : float\n",
    "        Penalty weight for L1 off-diagonal terms.\n",
    "    beta : float\n",
    "        Penalty weight for temporal difference.\n",
    "    psi_type : str\n",
    "        Type of temporal penalty: {\"l1\", \"group_l2\", \"laplacian\"}.\n",
    "    step_size : float\n",
    "        Step size for gradient descent.\n",
    "    max_iter : int\n",
    "        Max number of iterations.\n",
    "    tol : float\n",
    "        Stopping threshold for Frobenius norm difference across Theta updates.\n",
    "    \n",
    "    Returns\n",
    "    -------\n",
    "    Thetas : list of np.ndarray\n",
    "        The estimated precision matrices (Theta_i for i=1..T).\n",
    "    \"\"\"\n",
    "\n",
    "    T = len(S_list)\n",
    "    p = S_list[0].shape[0]\n",
    "    Thetas = [np.eye(p) for _ in range(T)]  # initialize to identity\n",
    "\n",
    "    for iteration in range(max_iter):\n",
    "        old_Thetas = [Th.copy() for Th in Thetas]\n",
    "\n",
    "        # Compute gradient for each Theta_i\n",
    "        grad_list = []\n",
    "        for i in range(T):\n",
    "            g = negative_loglike_grad(Thetas[i], S_list[i], n_list[i])\n",
    "\n",
    "            # Add derivative from beta * psi(Theta_i - Theta_{i-1})\n",
    "            if i > 0:\n",
    "                diff_fwd = Thetas[i] - Thetas[i-1]\n",
    "                g += beta * psi_grad(diff_fwd, psi_type)\n",
    "\n",
    "            # Subtract derivative from beta * psi(Theta_{i+1} - Theta_i)\n",
    "            if i < T - 1:\n",
    "                diff_bwd = Thetas[i+1] - Thetas[i]\n",
    "                g -= beta * psi_grad(diff_bwd, psi_type)\n",
    "\n",
    "            grad_list.append(g)\n",
    "\n",
    "        # Gradient step + prox for each Theta_i\n",
    "        for i in range(T):\n",
    "            Theta_new = Thetas[i] - step_size * grad_list[i]\n",
    "            # off-diagonal soft thresholding\n",
    "            Theta_new = soft_threshold_offdiag(Theta_new, lam * step_size)\n",
    "            # symmetrize\n",
    "            Theta_new = 0.5 * (Theta_new + Theta_new.T)\n",
    "            # small shift on diagonal to help positivity\n",
    "            Theta_new += 1e-7 * np.eye(p)\n",
    "            Thetas[i] = Theta_new\n",
    "\n",
    "        # Check convergence\n",
    "        max_diff = 0.0\n",
    "        for i in range(T):\n",
    "            diff_norm = np.linalg.norm(Thetas[i] - old_Thetas[i], ord='fro')\n",
    "            if diff_norm > max_diff:\n",
    "                max_diff = diff_norm\n",
    "\n",
    "        if max_diff < tol:\n",
    "            print(f\"Converged at iteration {iteration+1}, update norm={max_diff:.2e}\")\n",
    "            break\n",
    "\n",
    "    return Thetas\n",
    "\n",
    "\n",
    "# -------------------------------------------------------------------\n",
    "\n",
    "def random_spd_matrix(p, seed=None):\n",
    "    \"\"\"Generate a random (p x p) SPD matrix.\"\"\"\n",
    "    if seed is not None:\n",
    "        np.random.seed(seed)\n",
    "    A = np.random.randn(p, p)\n",
    "    M = A.T @ A\n",
    "    # shift diagonal to ensure it's well-conditioned\n",
    "    M += p * np.eye(p)\n",
    "    return M\n",
    "\n",
    "T = 5\n",
    "p = 3\n",
    "S_list = []\n",
    "n_list = []\n",
    "for t in range(T):\n",
    "    S_list.append(random_spd_matrix(p, seed=42 + t))\n",
    "    n_list.append(50)  # say 50 samples each time\n",
    "\n",
    "# Solve\n",
    "Thetas_est = solve_tvgl(\n",
    "    S_list, n_list,\n",
    "    lam=0.1,\n",
    "    beta=0.1,\n",
    "    psi_type=\"l1\",\n",
    "    step_size=1e-3,\n",
    "    max_iter=100,\n",
    "    tol=1e-5\n",
    ")\n",
    "\n",
    "# Print results\n",
    "print(\"Final Thetas:\")\n",
    "for idx, Theta in enumerate(Thetas_est, 1):\n",
    "    print(f\"\\nTheta_{idx}:\\n{Theta}\")\n"
   ]
  },
  {
   "cell_type": "code",
   "execution_count": 2,
   "metadata": {},
   "outputs": [
    {
     "ename": "ModuleNotFoundError",
     "evalue": "No module named 'data_generation'",
     "output_type": "error",
     "traceback": [
      "\u001b[0;31m---------------------------------------------------------------------------\u001b[0m",
      "\u001b[0;31mModuleNotFoundError\u001b[0m                       Traceback (most recent call last)",
      "Cell \u001b[0;32mIn[2], line 1\u001b[0m\n\u001b[0;32m----> 1\u001b[0m \u001b[38;5;28;01mfrom\u001b[39;00m \u001b[38;5;21;01mdata_generation\u001b[39;00m \u001b[38;5;28;01mimport\u001b[39;00m \u001b[38;5;241m*\u001b[39m\n",
      "\u001b[0;31mModuleNotFoundError\u001b[0m: No module named 'data_generation'"
     ]
    }
   ],
   "source": [
    "from data_generation import *\n"
   ]
  },
  {
   "cell_type": "code",
   "execution_count": 4,
   "metadata": {},
   "outputs": [
    {
     "name": "stdout",
     "output_type": "stream",
     "text": [
      "/Users/mahdibenayed/Desktop/TVGL_python/TVGL-in-python/Examples\n"
     ]
    }
   ],
   "source": [
    "import os\n",
    "print(os.getcwd(\n",
    "))"
   ]
  },
  {
   "cell_type": "code",
   "execution_count": 5,
   "metadata": {},
   "outputs": [],
   "source": [
    "os.chdir(\"/Users/mahdibenayed/Desktop/TVGL_python/TVGL-in-python\")"
   ]
  },
  {
   "cell_type": "code",
   "execution_count": 6,
   "metadata": {},
   "outputs": [],
   "source": [
    "from data_generation import *"
   ]
  },
  {
   "cell_type": "code",
   "execution_count": 39,
   "metadata": {},
   "outputs": [
    {
     "name": "stderr",
     "output_type": "stream",
     "text": [
      "/Users/mahdibenayed/Desktop/TVGL_python/TVGL-in-python/data_generation.py:118: RuntimeWarning: covariance is not symmetric positive-semidefinite.\n",
      "  samples = np.random.multivariate_normal(mean, covariance, samples_per_period)\n"
     ]
    }
   ],
   "source": [
    "N = 2000  \n",
    "d = 6      \n",
    "T = 20 \n",
    "t_shift = 10\n",
    "delta = 0.2\n",
    "\n",
    "data, covariances = generate_time_varying_gaussian_data_with_perturbation(N, d, T, t_shift, delta)"
   ]
  },
  {
   "cell_type": "code",
   "execution_count": 40,
   "metadata": {},
   "outputs": [],
   "source": [
    "S_list=covariances"
   ]
  },
  {
   "cell_type": "code",
   "execution_count": 41,
   "metadata": {},
   "outputs": [
    {
     "data": {
      "text/plain": [
       "20"
      ]
     },
     "execution_count": 41,
     "metadata": {},
     "output_type": "execute_result"
    }
   ],
   "source": [
    "len(S_list)"
   ]
  },
  {
   "cell_type": "code",
   "execution_count": 42,
   "metadata": {},
   "outputs": [],
   "source": [
    "n_list=[10 for i in range(len(S_list))]"
   ]
  },
  {
   "cell_type": "code",
   "execution_count": 43,
   "metadata": {},
   "outputs": [
    {
     "name": "stdout",
     "output_type": "stream",
     "text": [
      "Final Thetas:\n",
      "\n",
      "Theta_1:\n",
      "[[ 1.07153191 -0.17322766 -0.23320325 -0.07832787  0.05682869  0.32451458]\n",
      " [-0.17322766  1.08250591 -0.13682457 -0.00981421  0.1692984  -0.26110758]\n",
      " [-0.23320325 -0.13682457  1.1483819   0.00261428  0.47991617 -0.06928064]\n",
      " [-0.07832787 -0.00981421  0.00261428  1.03486446  0.12895105  0.27346356]\n",
      " [ 0.05682869  0.1692984   0.47991617  0.12895105  1.15808623  0.23707061]\n",
      " [ 0.32451458 -0.26110758 -0.06928064  0.27346356  0.23707061  1.11245921]]\n",
      "\n",
      "Theta_2:\n",
      "[[ 1.07153191 -0.17322766 -0.23320325 -0.07832787  0.05682869  0.32451458]\n",
      " [-0.17322766  1.08250591 -0.13682457 -0.00981421  0.1692984  -0.26110758]\n",
      " [-0.23320325 -0.13682457  1.1483819   0.00261428  0.47991617 -0.06928064]\n",
      " [-0.07832787 -0.00981421  0.00261428  1.03486446  0.12895105  0.27346356]\n",
      " [ 0.05682869  0.1692984   0.47991617  0.12895105  1.15808623  0.23707061]\n",
      " [ 0.32451458 -0.26110758 -0.06928064  0.27346356  0.23707061  1.11245921]]\n",
      "\n",
      "Theta_3:\n",
      "[[ 1.07153191 -0.17322766 -0.23320325 -0.07832787  0.05682869  0.32451458]\n",
      " [-0.17322766  1.08250591 -0.13682457 -0.00981421  0.1692984  -0.26110758]\n",
      " [-0.23320325 -0.13682457  1.1483819   0.00261428  0.47991617 -0.06928064]\n",
      " [-0.07832787 -0.00981421  0.00261428  1.03486446  0.12895105  0.27346356]\n",
      " [ 0.05682869  0.1692984   0.47991617  0.12895105  1.15808623  0.23707061]\n",
      " [ 0.32451458 -0.26110758 -0.06928064  0.27346356  0.23707061  1.11245921]]\n",
      "\n",
      "Theta_4:\n",
      "[[ 1.07153191 -0.17322766 -0.23320325 -0.07832787  0.05682869  0.32451458]\n",
      " [-0.17322766  1.08250591 -0.13682457 -0.00981421  0.1692984  -0.26110758]\n",
      " [-0.23320325 -0.13682457  1.1483819   0.00261428  0.47991617 -0.06928064]\n",
      " [-0.07832787 -0.00981421  0.00261428  1.03486446  0.12895105  0.27346356]\n",
      " [ 0.05682869  0.1692984   0.47991617  0.12895105  1.15808623  0.23707061]\n",
      " [ 0.32451458 -0.26110758 -0.06928064  0.27346356  0.23707061  1.11245921]]\n",
      "\n",
      "Theta_5:\n",
      "[[ 1.07153191 -0.17322766 -0.23320325 -0.07832787  0.05682869  0.32451458]\n",
      " [-0.17322766  1.08250591 -0.13682457 -0.00981421  0.1692984  -0.26110758]\n",
      " [-0.23320325 -0.13682457  1.1483819   0.00261428  0.47991617 -0.06928064]\n",
      " [-0.07832787 -0.00981421  0.00261428  1.03486446  0.12895105  0.27346356]\n",
      " [ 0.05682869  0.1692984   0.47991617  0.12895105  1.15808623  0.23707061]\n",
      " [ 0.32451458 -0.26110758 -0.06928064  0.27346356  0.23707061  1.11245921]]\n",
      "\n",
      "Theta_6:\n",
      "[[ 1.07153191 -0.17322766 -0.23320325 -0.07832787  0.05682869  0.32451458]\n",
      " [-0.17322766  1.08250591 -0.13682457 -0.00981421  0.1692984  -0.26110758]\n",
      " [-0.23320325 -0.13682457  1.1483819   0.00261428  0.47991617 -0.06928064]\n",
      " [-0.07832787 -0.00981421  0.00261428  1.03486446  0.12895105  0.27346356]\n",
      " [ 0.05682869  0.1692984   0.47991617  0.12895105  1.15808623  0.23707061]\n",
      " [ 0.32451458 -0.26110758 -0.06928064  0.27346356  0.23707061  1.11245921]]\n",
      "\n",
      "Theta_7:\n",
      "[[ 1.07153191 -0.17322766 -0.23320325 -0.07832787  0.05682869  0.32451458]\n",
      " [-0.17322766  1.08250591 -0.13682457 -0.00981421  0.1692984  -0.26110758]\n",
      " [-0.23320325 -0.13682457  1.1483819   0.00261428  0.47991617 -0.06928064]\n",
      " [-0.07832787 -0.00981421  0.00261428  1.03486446  0.12895105  0.27346356]\n",
      " [ 0.05682869  0.1692984   0.47991617  0.12895105  1.15808623  0.23707061]\n",
      " [ 0.32451458 -0.26110758 -0.06928064  0.27346356  0.23707061  1.11245921]]\n",
      "\n",
      "Theta_8:\n",
      "[[ 1.07153191 -0.17322766 -0.23320326 -0.07832787  0.05682869  0.32451458]\n",
      " [-0.17322766  1.08250591 -0.13682458 -0.00981421  0.1692984  -0.26110758]\n",
      " [-0.23320326 -0.13682458  1.1483819   0.00261428  0.47991616 -0.06928064]\n",
      " [-0.07832787 -0.00981421  0.00261428  1.03486446  0.12895105  0.27346356]\n",
      " [ 0.05682869  0.1692984   0.47991616  0.12895105  1.15808623  0.23707061]\n",
      " [ 0.32451458 -0.26110758 -0.06928064  0.27346356  0.23707061  1.11245921]]\n",
      "\n",
      "Theta_9:\n",
      "[[ 1.0715323  -0.17322726 -0.23320484 -0.07832773  0.05682853  0.32451488]\n",
      " [-0.17322726  1.08250632 -0.13682594 -0.00981411  0.16929822 -0.26110727]\n",
      " [-0.23320484 -0.13682594  1.14838216  0.00261378  0.47991426 -0.06928238]\n",
      " [-0.07832773 -0.00981411  0.00261378  1.0348645   0.12895091  0.27346365]\n",
      " [ 0.05682853  0.16929822  0.47991426  0.12895091  1.15808546  0.23707036]\n",
      " [ 0.32451488 -0.26110727 -0.06928238  0.27346365  0.23707036  1.11245944]]\n",
      "\n",
      "Theta_10:\n",
      "[[ 1.07165538 -0.17309822 -0.23372058 -0.07827306  0.05678146  0.32460897]\n",
      " [-0.17309822  1.08263686 -0.1372809  -0.00977422  0.16924527 -0.26101006]\n",
      " [-0.23372058 -0.1372809   1.14848647  0.00230119  0.47928531 -0.06986055]\n",
      " [-0.07827306 -0.00977422  0.00230119  1.03488241  0.12889127  0.27350055]\n",
      " [ 0.05678146  0.16924527  0.47928531  0.12889127  1.15786346  0.23700135]\n",
      " [ 0.32460897 -0.26101006 -0.06986055  0.27350055  0.23700135  1.11252882]]\n",
      "\n",
      "Theta_11:\n",
      "[[ 1.0964866  -0.14681323 -0.35319331 -0.06307542  0.04874868  0.34261238]\n",
      " [-0.14681323  1.10967838 -0.24823697  0.          0.16065504 -0.24217321]\n",
      " [-0.35319331 -0.24823697  1.18104212 -0.11933531  0.33115139 -0.20673162]\n",
      " [-0.06307542  0.         -0.11933531  1.04099333  0.11326225  0.28376882]\n",
      " [ 0.04874868  0.16065504  0.33115139  0.11326225  1.12313022  0.22738486]\n",
      " [ 0.34261238 -0.24217321 -0.20673162  0.28376882  0.22738486  1.12559771]]\n",
      "\n",
      "Theta_12:\n",
      "[[ 1.07165538 -0.17309822 -0.23372058 -0.07827306  0.05678146  0.32460897]\n",
      " [-0.17309822  1.08263686 -0.1372809  -0.00977422  0.16924527 -0.26101006]\n",
      " [-0.23372058 -0.1372809   1.14848647  0.00230119  0.47928531 -0.06986055]\n",
      " [-0.07827306 -0.00977422  0.00230119  1.03488241  0.12889127  0.27350055]\n",
      " [ 0.05678146  0.16924527  0.47928531  0.12889127  1.15786346  0.23700135]\n",
      " [ 0.32460897 -0.26101006 -0.06986055  0.27350055  0.23700135  1.11252882]]\n",
      "\n",
      "Theta_13:\n",
      "[[ 1.0715323  -0.17322726 -0.23320484 -0.07832773  0.05682853  0.32451488]\n",
      " [-0.17322726  1.08250632 -0.13682594 -0.00981411  0.16929822 -0.26110727]\n",
      " [-0.23320484 -0.13682594  1.14838216  0.00261378  0.47991426 -0.06928238]\n",
      " [-0.07832773 -0.00981411  0.00261378  1.0348645   0.12895091  0.27346365]\n",
      " [ 0.05682853  0.16929822  0.47991426  0.12895091  1.15808546  0.23707036]\n",
      " [ 0.32451488 -0.26110727 -0.06928238  0.27346365  0.23707036  1.11245944]]\n",
      "\n",
      "Theta_14:\n",
      "[[ 1.07153191 -0.17322766 -0.23320326 -0.07832787  0.05682869  0.32451458]\n",
      " [-0.17322766  1.08250591 -0.13682458 -0.00981421  0.1692984  -0.26110758]\n",
      " [-0.23320326 -0.13682458  1.1483819   0.00261428  0.47991616 -0.06928064]\n",
      " [-0.07832787 -0.00981421  0.00261428  1.03486446  0.12895105  0.27346356]\n",
      " [ 0.05682869  0.1692984   0.47991616  0.12895105  1.15808623  0.23707061]\n",
      " [ 0.32451458 -0.26110758 -0.06928064  0.27346356  0.23707061  1.11245921]]\n",
      "\n",
      "Theta_15:\n",
      "[[ 1.07153191 -0.17322766 -0.23320325 -0.07832787  0.05682869  0.32451458]\n",
      " [-0.17322766  1.08250591 -0.13682457 -0.00981421  0.1692984  -0.26110758]\n",
      " [-0.23320325 -0.13682457  1.1483819   0.00261428  0.47991617 -0.06928064]\n",
      " [-0.07832787 -0.00981421  0.00261428  1.03486446  0.12895105  0.27346356]\n",
      " [ 0.05682869  0.1692984   0.47991617  0.12895105  1.15808623  0.23707061]\n",
      " [ 0.32451458 -0.26110758 -0.06928064  0.27346356  0.23707061  1.11245921]]\n",
      "\n",
      "Theta_16:\n",
      "[[ 1.07153191 -0.17322766 -0.23320325 -0.07832787  0.05682869  0.32451458]\n",
      " [-0.17322766  1.08250591 -0.13682457 -0.00981421  0.1692984  -0.26110758]\n",
      " [-0.23320325 -0.13682457  1.1483819   0.00261428  0.47991617 -0.06928064]\n",
      " [-0.07832787 -0.00981421  0.00261428  1.03486446  0.12895105  0.27346356]\n",
      " [ 0.05682869  0.1692984   0.47991617  0.12895105  1.15808623  0.23707061]\n",
      " [ 0.32451458 -0.26110758 -0.06928064  0.27346356  0.23707061  1.11245921]]\n",
      "\n",
      "Theta_17:\n",
      "[[ 1.07153191 -0.17322766 -0.23320325 -0.07832787  0.05682869  0.32451458]\n",
      " [-0.17322766  1.08250591 -0.13682457 -0.00981421  0.1692984  -0.26110758]\n",
      " [-0.23320325 -0.13682457  1.1483819   0.00261428  0.47991617 -0.06928064]\n",
      " [-0.07832787 -0.00981421  0.00261428  1.03486446  0.12895105  0.27346356]\n",
      " [ 0.05682869  0.1692984   0.47991617  0.12895105  1.15808623  0.23707061]\n",
      " [ 0.32451458 -0.26110758 -0.06928064  0.27346356  0.23707061  1.11245921]]\n",
      "\n",
      "Theta_18:\n",
      "[[ 1.07153191 -0.17322766 -0.23320325 -0.07832787  0.05682869  0.32451458]\n",
      " [-0.17322766  1.08250591 -0.13682457 -0.00981421  0.1692984  -0.26110758]\n",
      " [-0.23320325 -0.13682457  1.1483819   0.00261428  0.47991617 -0.06928064]\n",
      " [-0.07832787 -0.00981421  0.00261428  1.03486446  0.12895105  0.27346356]\n",
      " [ 0.05682869  0.1692984   0.47991617  0.12895105  1.15808623  0.23707061]\n",
      " [ 0.32451458 -0.26110758 -0.06928064  0.27346356  0.23707061  1.11245921]]\n",
      "\n",
      "Theta_19:\n",
      "[[ 1.07153191 -0.17322766 -0.23320325 -0.07832787  0.05682869  0.32451458]\n",
      " [-0.17322766  1.08250591 -0.13682457 -0.00981421  0.1692984  -0.26110758]\n",
      " [-0.23320325 -0.13682457  1.1483819   0.00261428  0.47991617 -0.06928064]\n",
      " [-0.07832787 -0.00981421  0.00261428  1.03486446  0.12895105  0.27346356]\n",
      " [ 0.05682869  0.1692984   0.47991617  0.12895105  1.15808623  0.23707061]\n",
      " [ 0.32451458 -0.26110758 -0.06928064  0.27346356  0.23707061  1.11245921]]\n",
      "\n",
      "Theta_20:\n",
      "[[ 1.07153191 -0.17322766 -0.23320325 -0.07832787  0.05682869  0.32451458]\n",
      " [-0.17322766  1.08250591 -0.13682457 -0.00981421  0.1692984  -0.26110758]\n",
      " [-0.23320325 -0.13682457  1.1483819   0.00261428  0.47991617 -0.06928064]\n",
      " [-0.07832787 -0.00981421  0.00261428  1.03486446  0.12895105  0.27346356]\n",
      " [ 0.05682869  0.1692984   0.47991617  0.12895105  1.15808623  0.23707061]\n",
      " [ 0.32451458 -0.26110758 -0.06928064  0.27346356  0.23707061  1.11245921]]\n"
     ]
    }
   ],
   "source": [
    "\n",
    "\n",
    "Thetas_est = solve_tvgl(\n",
    "    S_list, n_list,\n",
    "    lam=0.1,\n",
    "    beta=0.1,\n",
    "    psi_type=\"laplacian\",\n",
    "    step_size=1e-3,\n",
    "    max_iter=100,\n",
    "    tol=1e-5\n",
    ")\n",
    "\n",
    "# Print results\n",
    "print(\"Final Thetas:\")\n",
    "for idx, Theta in enumerate(Thetas_est, 1):\n",
    "    print(f\"\\nTheta_{idx}:\\n{Theta}\")\n"
   ]
  },
  {
   "cell_type": "code",
   "execution_count": 44,
   "metadata": {},
   "outputs": [
    {
     "data": {
      "text/plain": [
       "20"
      ]
     },
     "execution_count": 44,
     "metadata": {},
     "output_type": "execute_result"
    }
   ],
   "source": [
    "len(Thetas_est)"
   ]
  },
  {
   "cell_type": "code",
   "execution_count": 45,
   "metadata": {},
   "outputs": [],
   "source": [
    "divergences = [np.linalg.norm(Thetas_est[i] - Thetas_est[i-1], ord='fro') for i in range(1, len(Thetas_est))]\n"
   ]
  },
  {
   "cell_type": "code",
   "execution_count": 46,
   "metadata": {},
   "outputs": [
    {
     "data": {
      "text/plain": [
       "[0.0,\n",
       " 0.0,\n",
       " 0.0,\n",
       " 7.351626287044711e-17,\n",
       " 3.343378594568868e-14,\n",
       " 2.1483320545851665e-11,\n",
       " 1.1477408058025799e-08,\n",
       " 4.960704293714974e-06,\n",
       " 0.0016754356945115243,\n",
       " 0.41532093217670063,\n",
       " 0.41532093217670063,\n",
       " 0.0016754356945115243,\n",
       " 4.960704293714974e-06,\n",
       " 1.1477408058025799e-08,\n",
       " 2.1483320545851665e-11,\n",
       " 3.343378594568868e-14,\n",
       " 7.351626287044711e-17,\n",
       " 0.0,\n",
       " 0.0]"
      ]
     },
     "execution_count": 46,
     "metadata": {},
     "output_type": "execute_result"
    }
   ],
   "source": [
    "divergences"
   ]
  },
  {
   "cell_type": "code",
   "execution_count": 47,
   "metadata": {},
   "outputs": [
    {
     "data": {
      "text/plain": [
       "19"
      ]
     },
     "execution_count": 47,
     "metadata": {},
     "output_type": "execute_result"
    }
   ],
   "source": [
    "len(divergences)"
   ]
  },
  {
   "cell_type": "code",
   "execution_count": 48,
   "metadata": {},
   "outputs": [
    {
     "data": {
      "text/plain": [
       "[<matplotlib.lines.Line2D at 0x165250e50>]"
      ]
     },
     "execution_count": 48,
     "metadata": {},
     "output_type": "execute_result"
    },
    {
     "data": {
      "image/png": "[encoded data removed]",
      "text/plain": [
       "<Figure size 640x480 with 1 Axes>"
      ]
     },
     "metadata": {},
     "output_type": "display_data"
    }
   ],
   "source": [
    "import matplotlib.pyplot as plt\n",
    "x=[i for i in range(1,20)]\n",
    "plt.plot(x,divergences)"
   ]
  },
  {
   "cell_type": "code",
   "execution_count": null,
   "metadata": {},
   "outputs": [],
   "source": []
  }
 ],
 "metadata": {
  "kernelspec": {
   "display_name": "labs",
   "language": "python",
   "name": "python3"
  },
  "language_info": {
   "codemirror_mode": {
    "name": "ipython",
    "version": 3
   },
   "file_extension": ".py",
   "mimetype": "text/x-python",
   "name": "python",
   "nbconvert_exporter": "python",
   "pygments_lexer": "ipython3",
   "version": "3.9.20"
  }
 },
 "nbformat": 4,
 "nbformat_minor": 2
}
